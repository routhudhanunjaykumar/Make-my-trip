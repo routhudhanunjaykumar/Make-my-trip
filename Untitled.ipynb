{
 "cells": [
  {
   "cell_type": "code",
   "execution_count": 1,
   "metadata": {
    "collapsed": true
   },
   "outputs": [],
   "source": [
    "import pandas as pd\n",
    "import numpy as np\n",
    "import matplotlib.pyplot as plt\n",
    "import missingno as ms\n",
    "import seaborn as sns\n",
    "%matplotlib inline"
   ]
  },
  {
   "cell_type": "code",
   "execution_count": 292,
   "metadata": {
    "collapsed": true
   },
   "outputs": [],
   "source": [
    "train_data = pd.read_csv('train.csv')\n",
    "test_data = pd.read_csv('test.csv')"
   ]
  },
  {
   "cell_type": "code",
   "execution_count": 293,
   "metadata": {
    "collapsed": true
   },
   "outputs": [],
   "source": [
    "p=train_data['P']"
   ]
  },
  {
   "cell_type": "code",
   "execution_count": 294,
   "metadata": {
    "collapsed": true
   },
   "outputs": [],
   "source": [
    "def get_combined_data():\n",
    "    #removing the targets from the training data \n",
    "    global test_data\n",
    "    train_data.drop('P',axis =  1, inplace=True)\n",
    "\n",
    "    # merging train data and test data for feature engineering\n",
    "    combined = train_data.append(test_data)\n",
    "    combined.reset_index(inplace=True)\n",
    "    combined.drop('index', inplace=True, axis=1)\n",
    "    return combined"
   ]
  },
  {
   "cell_type": "code",
   "execution_count": 295,
   "metadata": {
    "collapsed": true
   },
   "outputs": [],
   "source": [
    "data = get_combined_data()"
   ]
  },
  {
   "cell_type": "code",
   "execution_count": 311,
   "metadata": {},
   "outputs": [
    {
     "data": {
      "text/plain": [
       "1087.5760869565217"
      ]
     },
     "execution_count": 311,
     "metadata": {},
     "output_type": "execute_result"
    }
   ],
   "source": [
    "train_data['O'].mean()"
   ]
  },
  {
   "cell_type": "code",
   "execution_count": 184,
   "metadata": {},
   "outputs": [
    {
     "data": {
      "text/html": [
       "<div>\n",
       "<style>\n",
       "    .dataframe thead tr:only-child th {\n",
       "        text-align: right;\n",
       "    }\n",
       "\n",
       "    .dataframe thead th {\n",
       "        text-align: left;\n",
       "    }\n",
       "\n",
       "    .dataframe tbody tr th {\n",
       "        vertical-align: top;\n",
       "    }\n",
       "</style>\n",
       "<table border=\"1\" class=\"dataframe\">\n",
       "  <thead>\n",
       "    <tr style=\"text-align: right;\">\n",
       "      <th></th>\n",
       "      <th>id</th>\n",
       "      <th>A</th>\n",
       "      <th>B</th>\n",
       "      <th>C</th>\n",
       "      <th>D</th>\n",
       "      <th>E</th>\n",
       "      <th>F</th>\n",
       "      <th>G</th>\n",
       "      <th>H</th>\n",
       "      <th>I</th>\n",
       "      <th>J</th>\n",
       "      <th>K</th>\n",
       "      <th>L</th>\n",
       "      <th>M</th>\n",
       "      <th>N</th>\n",
       "      <th>O</th>\n",
       "      <th>P</th>\n",
       "    </tr>\n",
       "  </thead>\n",
       "  <tbody>\n",
       "    <tr>\n",
       "      <th>0</th>\n",
       "      <td>1</td>\n",
       "      <td>b</td>\n",
       "      <td>18.42</td>\n",
       "      <td>10.415</td>\n",
       "      <td>y</td>\n",
       "      <td>p</td>\n",
       "      <td>aa</td>\n",
       "      <td>v</td>\n",
       "      <td>0.125</td>\n",
       "      <td>t</td>\n",
       "      <td>f</td>\n",
       "      <td>0</td>\n",
       "      <td>f</td>\n",
       "      <td>g</td>\n",
       "      <td>120.0</td>\n",
       "      <td>375</td>\n",
       "      <td>1</td>\n",
       "    </tr>\n",
       "    <tr>\n",
       "      <th>1</th>\n",
       "      <td>2</td>\n",
       "      <td>a</td>\n",
       "      <td>21.75</td>\n",
       "      <td>11.750</td>\n",
       "      <td>u</td>\n",
       "      <td>g</td>\n",
       "      <td>c</td>\n",
       "      <td>v</td>\n",
       "      <td>0.250</td>\n",
       "      <td>f</td>\n",
       "      <td>f</td>\n",
       "      <td>0</td>\n",
       "      <td>t</td>\n",
       "      <td>g</td>\n",
       "      <td>180.0</td>\n",
       "      <td>0</td>\n",
       "      <td>1</td>\n",
       "    </tr>\n",
       "    <tr>\n",
       "      <th>2</th>\n",
       "      <td>3</td>\n",
       "      <td>b</td>\n",
       "      <td>30.17</td>\n",
       "      <td>1.085</td>\n",
       "      <td>y</td>\n",
       "      <td>p</td>\n",
       "      <td>c</td>\n",
       "      <td>v</td>\n",
       "      <td>0.040</td>\n",
       "      <td>f</td>\n",
       "      <td>f</td>\n",
       "      <td>0</td>\n",
       "      <td>f</td>\n",
       "      <td>g</td>\n",
       "      <td>170.0</td>\n",
       "      <td>179</td>\n",
       "      <td>1</td>\n",
       "    </tr>\n",
       "    <tr>\n",
       "      <th>3</th>\n",
       "      <td>4</td>\n",
       "      <td>b</td>\n",
       "      <td>22.67</td>\n",
       "      <td>2.540</td>\n",
       "      <td>y</td>\n",
       "      <td>p</td>\n",
       "      <td>c</td>\n",
       "      <td>h</td>\n",
       "      <td>2.585</td>\n",
       "      <td>t</td>\n",
       "      <td>f</td>\n",
       "      <td>0</td>\n",
       "      <td>f</td>\n",
       "      <td>g</td>\n",
       "      <td>0.0</td>\n",
       "      <td>0</td>\n",
       "      <td>0</td>\n",
       "    </tr>\n",
       "    <tr>\n",
       "      <th>4</th>\n",
       "      <td>5</td>\n",
       "      <td>a</td>\n",
       "      <td>36.00</td>\n",
       "      <td>1.000</td>\n",
       "      <td>u</td>\n",
       "      <td>g</td>\n",
       "      <td>c</td>\n",
       "      <td>v</td>\n",
       "      <td>2.000</td>\n",
       "      <td>t</td>\n",
       "      <td>t</td>\n",
       "      <td>11</td>\n",
       "      <td>f</td>\n",
       "      <td>g</td>\n",
       "      <td>0.0</td>\n",
       "      <td>456</td>\n",
       "      <td>0</td>\n",
       "    </tr>\n",
       "  </tbody>\n",
       "</table>\n",
       "</div>"
      ],
      "text/plain": [
       "   id  A      B       C  D  E   F  G      H  I  J   K  L  M      N    O  P\n",
       "0   1  b  18.42  10.415  y  p  aa  v  0.125  t  f   0  f  g  120.0  375  1\n",
       "1   2  a  21.75  11.750  u  g   c  v  0.250  f  f   0  t  g  180.0    0  1\n",
       "2   3  b  30.17   1.085  y  p   c  v  0.040  f  f   0  f  g  170.0  179  1\n",
       "3   4  b  22.67   2.540  y  p   c  h  2.585  t  f   0  f  g    0.0    0  0\n",
       "4   5  a  36.00   1.000  u  g   c  v  2.000  t  t  11  f  g    0.0  456  0"
      ]
     },
     "execution_count": 184,
     "metadata": {},
     "output_type": "execute_result"
    }
   ],
   "source": [
    "train_data.head()"
   ]
  },
  {
   "cell_type": "code",
   "execution_count": 306,
   "metadata": {},
   "outputs": [
    {
     "data": {
      "text/plain": [
       "29.5"
      ]
     },
     "execution_count": 306,
     "metadata": {},
     "output_type": "execute_result"
    }
   ],
   "source": [
    "data[data['A']=='b']['B'].median()"
   ]
  },
  {
   "cell_type": "code",
   "execution_count": null,
   "metadata": {
    "collapsed": true
   },
   "outputs": [],
   "source": [
    "ms.matrix(data)"
   ]
  },
  {
   "cell_type": "code",
   "execution_count": 4,
   "metadata": {
    "scrolled": true
   },
   "outputs": [
    {
     "data": {
      "text/plain": [
       "<matplotlib.axes._subplots.AxesSubplot at 0x16dcc313908>"
      ]
     },
     "execution_count": 4,
     "metadata": {},
     "output_type": "execute_result"
    },
    {
     "data": {
      "image/png": "[encoded data removed]",
      "text/plain": [
       "<matplotlib.figure.Figure at 0x16dc87c75c0>"
      ]
     },
     "metadata": {},
     "output_type": "display_data"
    }
   ],
   "source": [
    "ms.matrix(train_data)"
   ]
  },
  {
   "cell_type": "code",
   "execution_count": 253,
   "metadata": {
    "collapsed": true
   },
   "outputs": [],
   "source": [
    "for index,row in data.iterrows():\n",
    "    if pd.isnull(row['B']):\n",
    "        if(data.at[index,'A']=='a'):\n",
    "            data.at[index,'B']=30.88\n",
    "        else:\n",
    "            data.at[index,'B']=31.57\n",
    "for index,row in data.iterrows():\n",
    "    if pd.isnull(row['F']):\n",
    "        if(data.at[index,'A']=='a'):\n",
    "            data.at[index,'F']='q'\n",
    "        else:\n",
    "            data.at[index,'F']='c'"
   ]
  },
  {
   "cell_type": "code",
   "execution_count": 254,
   "metadata": {
    "collapsed": true
   },
   "outputs": [],
   "source": [
    "for index,row in data.iterrows():\n",
    "    if pd.isnull(row['A']):\n",
    "        if(data.at[index,'B']>=31):\n",
    "            data.at[index,'A']='b'\n",
    "        else:\n",
    "            data.at[index,'A']='a'"
   ]
  },
  {
   "cell_type": "code",
   "execution_count": 255,
   "metadata": {
    "collapsed": true
   },
   "outputs": [],
   "source": [
    "for index,row in data.iterrows():\n",
    "    if pd.isnull(row['N']):\n",
    "        if(data.at[index,'A']=='a'):\n",
    "            data.at[index,'N']=120\n",
    "        else:\n",
    "            data.at[index,'N']=160"
   ]
  },
  {
   "cell_type": "code",
   "execution_count": 256,
   "metadata": {
    "collapsed": true
   },
   "outputs": [],
   "source": [
    "#data['N'].fillna(method='ffill',inplace=True)"
   ]
  },
  {
   "cell_type": "code",
   "execution_count": 257,
   "metadata": {
    "collapsed": true
   },
   "outputs": [],
   "source": [
    "for index,row in data.iterrows():\n",
    "    if pd.isnull(row['D']):\n",
    "        data.at[index,'D']='v'"
   ]
  },
  {
   "cell_type": "code",
   "execution_count": 258,
   "metadata": {
    "collapsed": true
   },
   "outputs": [],
   "source": [
    "a=pd.get_dummies(data['A'],drop_first=True)\n",
    "d=pd.get_dummies(data['D'],drop_first=True)\n",
    "f=pd.get_dummies(data['F'],drop_first=True)\n",
    "f['j']=f['j']+f['r']\n",
    "g=pd.get_dummies(data['G'])\n",
    "g['z']=g['z']+g['j']+g['dd']+g['o']+g['n']\n",
    "i=pd.get_dummies(data['I'],drop_first=True)\n",
    "j=pd.get_dummies(data['J'],drop_first=True)\n",
    "l=pd.get_dummies(data['L'],drop_first=True)\n",
    "m=pd.get_dummies(data['M'],drop_first=True)"
   ]
  },
  {
   "cell_type": "code",
   "execution_count": 259,
   "metadata": {
    "collapsed": true
   },
   "outputs": [],
   "source": [
    "data=pd.concat([data,a,d,f,g,i,j,l,m],axis=1)\n",
    "data.drop(['A','D','G','F','I','J','L','M','id','E','j','dd','o','n','v','r'],axis=1,inplace=True)"
   ]
  },
  {
   "cell_type": "code",
   "execution_count": 260,
   "metadata": {},
   "outputs": [
    {
     "data": {
      "text/plain": [
       "Index(['B', 'C', 'H', 'K', 'N', 'O', 'b', 'u', 'y', 'c', 'cc', 'd', 'e', 'ff',\n",
       "       'i', 'k', 'm', 'q', 'w', 'x', 'bb', 'ff', 'h', 'z', 't', 't', 't', 'p',\n",
       "       's'],\n",
       "      dtype='object')"
      ]
     },
     "execution_count": 260,
     "metadata": {},
     "output_type": "execute_result"
    }
   ],
   "source": [
    "data.columns"
   ]
  },
  {
   "cell_type": "code",
   "execution_count": 196,
   "metadata": {
    "collapsed": true
   },
   "outputs": [],
   "source": [
    "aa=pd.concat([p,data],axis=1)"
   ]
  },
  {
   "cell_type": "code",
   "execution_count": 197,
   "metadata": {},
   "outputs": [
    {
     "data": {
      "text/html": [
       "<div>\n",
       "<style>\n",
       "    .dataframe thead tr:only-child th {\n",
       "        text-align: right;\n",
       "    }\n",
       "\n",
       "    .dataframe thead th {\n",
       "        text-align: left;\n",
       "    }\n",
       "\n",
       "    .dataframe tbody tr th {\n",
       "        vertical-align: top;\n",
       "    }\n",
       "</style>\n",
       "<table border=\"1\" class=\"dataframe\">\n",
       "  <thead>\n",
       "    <tr style=\"text-align: right;\">\n",
       "      <th></th>\n",
       "      <th>P</th>\n",
       "      <th>B</th>\n",
       "      <th>C</th>\n",
       "      <th>H</th>\n",
       "      <th>K</th>\n",
       "      <th>N</th>\n",
       "      <th>O</th>\n",
       "      <th>b</th>\n",
       "      <th>u</th>\n",
       "      <th>y</th>\n",
       "      <th>...</th>\n",
       "      <th>x</th>\n",
       "      <th>bb</th>\n",
       "      <th>ff</th>\n",
       "      <th>h</th>\n",
       "      <th>z</th>\n",
       "      <th>t</th>\n",
       "      <th>t</th>\n",
       "      <th>t</th>\n",
       "      <th>p</th>\n",
       "      <th>s</th>\n",
       "    </tr>\n",
       "  </thead>\n",
       "  <tbody>\n",
       "    <tr>\n",
       "      <th>P</th>\n",
       "      <td>1.000000</td>\n",
       "      <td>-0.163535</td>\n",
       "      <td>-0.199471</td>\n",
       "      <td>-0.325125</td>\n",
       "      <td>-0.438026</td>\n",
       "      <td>0.115003</td>\n",
       "      <td>-0.172351</td>\n",
       "      <td>0.051749</td>\n",
       "      <td>-0.142513</td>\n",
       "      <td>0.161193</td>\n",
       "      <td>...</td>\n",
       "      <td>-0.191934</td>\n",
       "      <td>-0.012652</td>\n",
       "      <td>0.179058</td>\n",
       "      <td>-1.755049e-01</td>\n",
       "      <td>-0.039983</td>\n",
       "      <td>-0.722043</td>\n",
       "      <td>-0.477580</td>\n",
       "      <td>-0.017136</td>\n",
       "      <td>-0.028255</td>\n",
       "      <td>0.109625</td>\n",
       "    </tr>\n",
       "    <tr>\n",
       "      <th>B</th>\n",
       "      <td>-0.163535</td>\n",
       "      <td>1.000000</td>\n",
       "      <td>0.201280</td>\n",
       "      <td>0.392878</td>\n",
       "      <td>0.185663</td>\n",
       "      <td>-0.078078</td>\n",
       "      <td>0.018502</td>\n",
       "      <td>0.046740</td>\n",
       "      <td>0.097901</td>\n",
       "      <td>-0.098350</td>\n",
       "      <td>...</td>\n",
       "      <td>0.009270</td>\n",
       "      <td>0.125234</td>\n",
       "      <td>0.165790</td>\n",
       "      <td>1.740266e-02</td>\n",
       "      <td>0.074942</td>\n",
       "      <td>0.204437</td>\n",
       "      <td>0.083727</td>\n",
       "      <td>0.054673</td>\n",
       "      <td>0.013211</td>\n",
       "      <td>-0.017252</td>\n",
       "    </tr>\n",
       "    <tr>\n",
       "      <th>C</th>\n",
       "      <td>-0.199471</td>\n",
       "      <td>0.201280</td>\n",
       "      <td>1.000000</td>\n",
       "      <td>0.298902</td>\n",
       "      <td>0.271207</td>\n",
       "      <td>-0.222541</td>\n",
       "      <td>0.123121</td>\n",
       "      <td>-0.036993</td>\n",
       "      <td>0.093017</td>\n",
       "      <td>-0.083781</td>\n",
       "      <td>...</td>\n",
       "      <td>0.064218</td>\n",
       "      <td>-0.003667</td>\n",
       "      <td>0.037302</td>\n",
       "      <td>6.126905e-02</td>\n",
       "      <td>0.116594</td>\n",
       "      <td>0.244317</td>\n",
       "      <td>0.174846</td>\n",
       "      <td>-0.013023</td>\n",
       "      <td>-0.037842</td>\n",
       "      <td>-0.116404</td>\n",
       "    </tr>\n",
       "    <tr>\n",
       "      <th>H</th>\n",
       "      <td>-0.325125</td>\n",
       "      <td>0.392878</td>\n",
       "      <td>0.298902</td>\n",
       "      <td>1.000000</td>\n",
       "      <td>0.322330</td>\n",
       "      <td>-0.075557</td>\n",
       "      <td>0.051345</td>\n",
       "      <td>0.091308</td>\n",
       "      <td>0.082493</td>\n",
       "      <td>-0.075905</td>\n",
       "      <td>...</td>\n",
       "      <td>0.062229</td>\n",
       "      <td>0.074188</td>\n",
       "      <td>-0.073321</td>\n",
       "      <td>1.784135e-01</td>\n",
       "      <td>0.036877</td>\n",
       "      <td>0.345689</td>\n",
       "      <td>0.222982</td>\n",
       "      <td>0.138139</td>\n",
       "      <td>-0.065938</td>\n",
       "      <td>-0.007965</td>\n",
       "    </tr>\n",
       "    <tr>\n",
       "      <th>K</th>\n",
       "      <td>-0.438026</td>\n",
       "      <td>0.185663</td>\n",
       "      <td>0.271207</td>\n",
       "      <td>0.322330</td>\n",
       "      <td>1.000000</td>\n",
       "      <td>-0.119479</td>\n",
       "      <td>0.063692</td>\n",
       "      <td>-0.016187</td>\n",
       "      <td>0.122543</td>\n",
       "      <td>-0.111077</td>\n",
       "      <td>...</td>\n",
       "      <td>0.018042</td>\n",
       "      <td>0.032423</td>\n",
       "      <td>-0.033368</td>\n",
       "      <td>6.546384e-02</td>\n",
       "      <td>0.025393</td>\n",
       "      <td>0.379532</td>\n",
       "      <td>0.571498</td>\n",
       "      <td>0.006944</td>\n",
       "      <td>-0.053491</td>\n",
       "      <td>-0.130871</td>\n",
       "    </tr>\n",
       "    <tr>\n",
       "      <th>N</th>\n",
       "      <td>0.115003</td>\n",
       "      <td>-0.078078</td>\n",
       "      <td>-0.222541</td>\n",
       "      <td>-0.075557</td>\n",
       "      <td>-0.119479</td>\n",
       "      <td>1.000000</td>\n",
       "      <td>0.063840</td>\n",
       "      <td>0.083724</td>\n",
       "      <td>-0.015415</td>\n",
       "      <td>0.009499</td>\n",
       "      <td>...</td>\n",
       "      <td>0.111751</td>\n",
       "      <td>0.080406</td>\n",
       "      <td>-0.123077</td>\n",
       "      <td>4.384318e-02</td>\n",
       "      <td>-0.090234</td>\n",
       "      <td>-0.066350</td>\n",
       "      <td>-0.053288</td>\n",
       "      <td>0.145722</td>\n",
       "      <td>0.010318</td>\n",
       "      <td>0.092629</td>\n",
       "    </tr>\n",
       "    <tr>\n",
       "      <th>O</th>\n",
       "      <td>-0.172351</td>\n",
       "      <td>0.018502</td>\n",
       "      <td>0.123121</td>\n",
       "      <td>0.051345</td>\n",
       "      <td>0.063692</td>\n",
       "      <td>0.063840</td>\n",
       "      <td>1.000000</td>\n",
       "      <td>0.000746</td>\n",
       "      <td>-0.002880</td>\n",
       "      <td>-0.057273</td>\n",
       "      <td>...</td>\n",
       "      <td>0.003599</td>\n",
       "      <td>0.043749</td>\n",
       "      <td>-0.033587</td>\n",
       "      <td>-4.725439e-03</td>\n",
       "      <td>0.133187</td>\n",
       "      <td>0.090012</td>\n",
       "      <td>0.077652</td>\n",
       "      <td>0.019201</td>\n",
       "      <td>0.238870</td>\n",
       "      <td>-0.058611</td>\n",
       "    </tr>\n",
       "    <tr>\n",
       "      <th>b</th>\n",
       "      <td>0.051749</td>\n",
       "      <td>0.046740</td>\n",
       "      <td>-0.036993</td>\n",
       "      <td>0.091308</td>\n",
       "      <td>-0.016187</td>\n",
       "      <td>0.083724</td>\n",
       "      <td>0.000746</td>\n",
       "      <td>1.000000</td>\n",
       "      <td>-0.063462</td>\n",
       "      <td>0.068063</td>\n",
       "      <td>...</td>\n",
       "      <td>0.013009</td>\n",
       "      <td>0.073169</td>\n",
       "      <td>-0.125560</td>\n",
       "      <td>-3.589528e-02</td>\n",
       "      <td>-0.050529</td>\n",
       "      <td>-0.015424</td>\n",
       "      <td>-0.077129</td>\n",
       "      <td>0.065027</td>\n",
       "      <td>0.015044</td>\n",
       "      <td>0.078530</td>\n",
       "    </tr>\n",
       "    <tr>\n",
       "      <th>u</th>\n",
       "      <td>-0.142513</td>\n",
       "      <td>0.097901</td>\n",
       "      <td>0.093017</td>\n",
       "      <td>0.082493</td>\n",
       "      <td>0.122543</td>\n",
       "      <td>-0.015415</td>\n",
       "      <td>-0.002880</td>\n",
       "      <td>-0.063462</td>\n",
       "      <td>1.000000</td>\n",
       "      <td>-0.968889</td>\n",
       "      <td>...</td>\n",
       "      <td>0.006142</td>\n",
       "      <td>0.043475</td>\n",
       "      <td>-0.083817</td>\n",
       "      <td>1.007023e-02</td>\n",
       "      <td>-0.018048</td>\n",
       "      <td>0.164424</td>\n",
       "      <td>0.190721</td>\n",
       "      <td>0.008846</td>\n",
       "      <td>-0.157329</td>\n",
       "      <td>0.013731</td>\n",
       "    </tr>\n",
       "    <tr>\n",
       "      <th>y</th>\n",
       "      <td>0.161193</td>\n",
       "      <td>-0.098350</td>\n",
       "      <td>-0.083781</td>\n",
       "      <td>-0.075905</td>\n",
       "      <td>-0.111077</td>\n",
       "      <td>0.009499</td>\n",
       "      <td>-0.057273</td>\n",
       "      <td>0.068063</td>\n",
       "      <td>-0.968889</td>\n",
       "      <td>1.000000</td>\n",
       "      <td>...</td>\n",
       "      <td>0.000347</td>\n",
       "      <td>-0.035844</td>\n",
       "      <td>0.080992</td>\n",
       "      <td>3.411936e-03</td>\n",
       "      <td>0.006666</td>\n",
       "      <td>-0.138535</td>\n",
       "      <td>-0.170268</td>\n",
       "      <td>0.002402</td>\n",
       "      <td>-0.060234</td>\n",
       "      <td>-0.018160</td>\n",
       "    </tr>\n",
       "    <tr>\n",
       "      <th>c</th>\n",
       "      <td>0.018874</td>\n",
       "      <td>-0.070768</td>\n",
       "      <td>-0.051812</td>\n",
       "      <td>-0.000896</td>\n",
       "      <td>0.031851</td>\n",
       "      <td>-0.049818</td>\n",
       "      <td>-0.022257</td>\n",
       "      <td>0.086694</td>\n",
       "      <td>-0.043887</td>\n",
       "      <td>0.025042</td>\n",
       "      <td>...</td>\n",
       "      <td>-0.123980</td>\n",
       "      <td>0.021515</td>\n",
       "      <td>-0.154106</td>\n",
       "      <td>-1.604852e-02</td>\n",
       "      <td>-0.069469</td>\n",
       "      <td>-0.016702</td>\n",
       "      <td>0.003134</td>\n",
       "      <td>-0.035417</td>\n",
       "      <td>0.110952</td>\n",
       "      <td>-0.011603</td>\n",
       "    </tr>\n",
       "    <tr>\n",
       "      <th>cc</th>\n",
       "      <td>-0.147356</td>\n",
       "      <td>-0.026904</td>\n",
       "      <td>-0.036943</td>\n",
       "      <td>0.060111</td>\n",
       "      <td>0.121865</td>\n",
       "      <td>0.056735</td>\n",
       "      <td>0.043967</td>\n",
       "      <td>0.038212</td>\n",
       "      <td>0.002284</td>\n",
       "      <td>-0.009893</td>\n",
       "      <td>...</td>\n",
       "      <td>-0.060679</td>\n",
       "      <td>-0.054934</td>\n",
       "      <td>-0.053155</td>\n",
       "      <td>1.348678e-01</td>\n",
       "      <td>-0.051692</td>\n",
       "      <td>0.092659</td>\n",
       "      <td>0.055403</td>\n",
       "      <td>0.002746</td>\n",
       "      <td>-0.027222</td>\n",
       "      <td>-0.030886</td>\n",
       "    </tr>\n",
       "    <tr>\n",
       "      <th>d</th>\n",
       "      <td>0.102533</td>\n",
       "      <td>-0.013515</td>\n",
       "      <td>0.001176</td>\n",
       "      <td>0.008507</td>\n",
       "      <td>-0.046799</td>\n",
       "      <td>0.005550</td>\n",
       "      <td>-0.037106</td>\n",
       "      <td>0.067878</td>\n",
       "      <td>0.007157</td>\n",
       "      <td>-0.001455</td>\n",
       "      <td>...</td>\n",
       "      <td>-0.051470</td>\n",
       "      <td>-0.014365</td>\n",
       "      <td>-0.063977</td>\n",
       "      <td>-3.146142e-16</td>\n",
       "      <td>-0.043847</td>\n",
       "      <td>-0.081042</td>\n",
       "      <td>-0.126787</td>\n",
       "      <td>0.060776</td>\n",
       "      <td>-0.023091</td>\n",
       "      <td>0.090915</td>\n",
       "    </tr>\n",
       "    <tr>\n",
       "      <th>e</th>\n",
       "      <td>-0.060425</td>\n",
       "      <td>0.143802</td>\n",
       "      <td>0.134457</td>\n",
       "      <td>0.108307</td>\n",
       "      <td>0.025536</td>\n",
       "      <td>-0.023286</td>\n",
       "      <td>0.075431</td>\n",
       "      <td>0.014404</td>\n",
       "      <td>0.003515</td>\n",
       "      <td>0.001720</td>\n",
       "      <td>...</td>\n",
       "      <td>-0.046809</td>\n",
       "      <td>-0.003819</td>\n",
       "      <td>-0.058183</td>\n",
       "      <td>-1.938917e-02</td>\n",
       "      <td>0.510410</td>\n",
       "      <td>0.029818</td>\n",
       "      <td>0.020562</td>\n",
       "      <td>-0.053693</td>\n",
       "      <td>-0.021000</td>\n",
       "      <td>-0.001837</td>\n",
       "    </tr>\n",
       "    <tr>\n",
       "      <th>ff</th>\n",
       "      <td>0.179997</td>\n",
       "      <td>0.167836</td>\n",
       "      <td>0.062583</td>\n",
       "      <td>-0.077599</td>\n",
       "      <td>-0.040543</td>\n",
       "      <td>-0.108922</td>\n",
       "      <td>0.073808</td>\n",
       "      <td>-0.109383</td>\n",
       "      <td>-0.073934</td>\n",
       "      <td>0.070210</td>\n",
       "      <td>...</td>\n",
       "      <td>-0.069636</td>\n",
       "      <td>-0.088202</td>\n",
       "      <td>0.941472</td>\n",
       "      <td>-1.442242e-01</td>\n",
       "      <td>-0.031740</td>\n",
       "      <td>-0.171392</td>\n",
       "      <td>0.003747</td>\n",
       "      <td>-0.112211</td>\n",
       "      <td>0.019599</td>\n",
       "      <td>-0.047018</td>\n",
       "    </tr>\n",
       "    <tr>\n",
       "      <th>i</th>\n",
       "      <td>0.117889</td>\n",
       "      <td>0.031090</td>\n",
       "      <td>-0.034094</td>\n",
       "      <td>-0.024744</td>\n",
       "      <td>-0.053967</td>\n",
       "      <td>0.044270</td>\n",
       "      <td>-0.029540</td>\n",
       "      <td>0.028520</td>\n",
       "      <td>0.031471</td>\n",
       "      <td>-0.023642</td>\n",
       "      <td>...</td>\n",
       "      <td>-0.073821</td>\n",
       "      <td>0.499584</td>\n",
       "      <td>-0.091759</td>\n",
       "      <td>-2.332232e-02</td>\n",
       "      <td>-0.036621</td>\n",
       "      <td>-0.112775</td>\n",
       "      <td>-0.128066</td>\n",
       "      <td>0.051800</td>\n",
       "      <td>-0.033118</td>\n",
       "      <td>0.021200</td>\n",
       "    </tr>\n",
       "    <tr>\n",
       "      <th>k</th>\n",
       "      <td>0.096947</td>\n",
       "      <td>-0.003982</td>\n",
       "      <td>-0.042265</td>\n",
       "      <td>-0.058563</td>\n",
       "      <td>-0.054033</td>\n",
       "      <td>-0.004731</td>\n",
       "      <td>-0.026435</td>\n",
       "      <td>0.048188</td>\n",
       "      <td>-0.055951</td>\n",
       "      <td>0.064582</td>\n",
       "      <td>...</td>\n",
       "      <td>-0.068203</td>\n",
       "      <td>-0.066577</td>\n",
       "      <td>-0.044531</td>\n",
       "      <td>2.492740e-02</td>\n",
       "      <td>-0.058101</td>\n",
       "      <td>-0.074115</td>\n",
       "      <td>-0.076189</td>\n",
       "      <td>0.029391</td>\n",
       "      <td>-0.030598</td>\n",
       "      <td>0.035957</td>\n",
       "    </tr>\n",
       "    <tr>\n",
       "      <th>m</th>\n",
       "      <td>-0.002035</td>\n",
       "      <td>0.035262</td>\n",
       "      <td>-0.073015</td>\n",
       "      <td>0.025810</td>\n",
       "      <td>-0.017257</td>\n",
       "      <td>0.071469</td>\n",
       "      <td>-0.006029</td>\n",
       "      <td>0.122470</td>\n",
       "      <td>0.020857</td>\n",
       "      <td>-0.014610</td>\n",
       "      <td>...</td>\n",
       "      <td>-0.058282</td>\n",
       "      <td>-0.005663</td>\n",
       "      <td>-0.072444</td>\n",
       "      <td>-8.894314e-02</td>\n",
       "      <td>-0.049650</td>\n",
       "      <td>0.001512</td>\n",
       "      <td>0.022520</td>\n",
       "      <td>0.058619</td>\n",
       "      <td>-0.026147</td>\n",
       "      <td>0.227567</td>\n",
       "    </tr>\n",
       "    <tr>\n",
       "      <th>q</th>\n",
       "      <td>-0.156415</td>\n",
       "      <td>-0.049659</td>\n",
       "      <td>0.021992</td>\n",
       "      <td>0.039152</td>\n",
       "      <td>0.073592</td>\n",
       "      <td>-0.035948</td>\n",
       "      <td>-0.002923</td>\n",
       "      <td>-0.232432</td>\n",
       "      <td>0.123993</td>\n",
       "      <td>-0.137461</td>\n",
       "      <td>...</td>\n",
       "      <td>-0.087428</td>\n",
       "      <td>-0.110737</td>\n",
       "      <td>-0.108671</td>\n",
       "      <td>1.471206e-01</td>\n",
       "      <td>-0.051536</td>\n",
       "      <td>0.146327</td>\n",
       "      <td>0.144546</td>\n",
       "      <td>-0.005794</td>\n",
       "      <td>0.045351</td>\n",
       "      <td>-0.075784</td>\n",
       "    </tr>\n",
       "    <tr>\n",
       "      <th>r</th>\n",
       "      <td>-0.047340</td>\n",
       "      <td>-0.009960</td>\n",
       "      <td>0.011131</td>\n",
       "      <td>0.039224</td>\n",
       "      <td>0.008159</td>\n",
       "      <td>-0.032674</td>\n",
       "      <td>0.120025</td>\n",
       "      <td>0.044759</td>\n",
       "      <td>-0.013087</td>\n",
       "      <td>0.015106</td>\n",
       "      <td>...</td>\n",
       "      <td>-0.015953</td>\n",
       "      <td>-0.020207</td>\n",
       "      <td>-0.019830</td>\n",
       "      <td>2.202729e-02</td>\n",
       "      <td>0.209680</td>\n",
       "      <td>0.018983</td>\n",
       "      <td>-0.012583</td>\n",
       "      <td>0.071891</td>\n",
       "      <td>-0.007157</td>\n",
       "      <td>-0.019830</td>\n",
       "    </tr>\n",
       "    <tr>\n",
       "      <th>w</th>\n",
       "      <td>-0.020651</td>\n",
       "      <td>-0.048507</td>\n",
       "      <td>-0.012166</td>\n",
       "      <td>-0.008729</td>\n",
       "      <td>-0.015010</td>\n",
       "      <td>0.030989</td>\n",
       "      <td>-0.023613</td>\n",
       "      <td>0.098212</td>\n",
       "      <td>0.021533</td>\n",
       "      <td>-0.013160</td>\n",
       "      <td>...</td>\n",
       "      <td>-0.077192</td>\n",
       "      <td>-0.079906</td>\n",
       "      <td>-0.095949</td>\n",
       "      <td>-7.244207e-02</td>\n",
       "      <td>-0.065759</td>\n",
       "      <td>0.025166</td>\n",
       "      <td>0.046834</td>\n",
       "      <td>0.037000</td>\n",
       "      <td>-0.034630</td>\n",
       "      <td>-0.023356</td>\n",
       "    </tr>\n",
       "    <tr>\n",
       "      <th>x</th>\n",
       "      <td>-0.191934</td>\n",
       "      <td>0.009270</td>\n",
       "      <td>0.064218</td>\n",
       "      <td>0.062229</td>\n",
       "      <td>0.018042</td>\n",
       "      <td>0.111751</td>\n",
       "      <td>0.003599</td>\n",
       "      <td>0.013009</td>\n",
       "      <td>0.006142</td>\n",
       "      <td>0.000347</td>\n",
       "      <td>...</td>\n",
       "      <td>1.000000</td>\n",
       "      <td>-0.051102</td>\n",
       "      <td>-0.072444</td>\n",
       "      <td>2.128282e-01</td>\n",
       "      <td>-0.049650</td>\n",
       "      <td>0.154150</td>\n",
       "      <td>0.099570</td>\n",
       "      <td>0.020365</td>\n",
       "      <td>-0.026147</td>\n",
       "      <td>-0.049366</td>\n",
       "    </tr>\n",
       "    <tr>\n",
       "      <th>bb</th>\n",
       "      <td>-0.012652</td>\n",
       "      <td>0.125234</td>\n",
       "      <td>-0.003667</td>\n",
       "      <td>0.074188</td>\n",
       "      <td>0.032423</td>\n",
       "      <td>0.080406</td>\n",
       "      <td>0.043749</td>\n",
       "      <td>0.073169</td>\n",
       "      <td>0.043475</td>\n",
       "      <td>-0.035844</td>\n",
       "      <td>...</td>\n",
       "      <td>-0.051102</td>\n",
       "      <td>1.000000</td>\n",
       "      <td>-0.091759</td>\n",
       "      <td>-1.528908e-01</td>\n",
       "      <td>-0.062887</td>\n",
       "      <td>0.042875</td>\n",
       "      <td>-0.044258</td>\n",
       "      <td>0.072605</td>\n",
       "      <td>-0.033118</td>\n",
       "      <td>0.058853</td>\n",
       "    </tr>\n",
       "    <tr>\n",
       "      <th>ff</th>\n",
       "      <td>0.179058</td>\n",
       "      <td>0.165790</td>\n",
       "      <td>0.037302</td>\n",
       "      <td>-0.073321</td>\n",
       "      <td>-0.033368</td>\n",
       "      <td>-0.123077</td>\n",
       "      <td>-0.033587</td>\n",
       "      <td>-0.125560</td>\n",
       "      <td>-0.083817</td>\n",
       "      <td>0.080992</td>\n",
       "      <td>...</td>\n",
       "      <td>-0.072444</td>\n",
       "      <td>-0.091759</td>\n",
       "      <td>1.000000</td>\n",
       "      <td>-1.500395e-01</td>\n",
       "      <td>-0.061714</td>\n",
       "      <td>-0.177308</td>\n",
       "      <td>-0.003933</td>\n",
       "      <td>-0.127900</td>\n",
       "      <td>-0.032500</td>\n",
       "      <td>-0.032676</td>\n",
       "    </tr>\n",
       "    <tr>\n",
       "      <th>h</th>\n",
       "      <td>-0.175505</td>\n",
       "      <td>0.017403</td>\n",
       "      <td>0.061269</td>\n",
       "      <td>0.178414</td>\n",
       "      <td>0.065464</td>\n",
       "      <td>0.043843</td>\n",
       "      <td>-0.004725</td>\n",
       "      <td>-0.035895</td>\n",
       "      <td>0.010070</td>\n",
       "      <td>0.003412</td>\n",
       "      <td>...</td>\n",
       "      <td>0.212828</td>\n",
       "      <td>-0.152891</td>\n",
       "      <td>-0.150039</td>\n",
       "      <td>1.000000e+00</td>\n",
       "      <td>-0.102830</td>\n",
       "      <td>0.187158</td>\n",
       "      <td>0.080561</td>\n",
       "      <td>0.034906</td>\n",
       "      <td>-0.054153</td>\n",
       "      <td>-0.071071</td>\n",
       "    </tr>\n",
       "    <tr>\n",
       "      <th>z</th>\n",
       "      <td>-0.039983</td>\n",
       "      <td>0.074942</td>\n",
       "      <td>0.116594</td>\n",
       "      <td>0.036877</td>\n",
       "      <td>0.025393</td>\n",
       "      <td>-0.090234</td>\n",
       "      <td>0.133187</td>\n",
       "      <td>-0.050529</td>\n",
       "      <td>-0.018048</td>\n",
       "      <td>0.006666</td>\n",
       "      <td>...</td>\n",
       "      <td>-0.049650</td>\n",
       "      <td>-0.062887</td>\n",
       "      <td>-0.061714</td>\n",
       "      <td>-1.028300e-01</td>\n",
       "      <td>1.000000</td>\n",
       "      <td>-0.024254</td>\n",
       "      <td>0.000430</td>\n",
       "      <td>0.002607</td>\n",
       "      <td>0.046338</td>\n",
       "      <td>-0.035033</td>\n",
       "    </tr>\n",
       "    <tr>\n",
       "      <th>t</th>\n",
       "      <td>-0.722043</td>\n",
       "      <td>0.204437</td>\n",
       "      <td>0.244317</td>\n",
       "      <td>0.345689</td>\n",
       "      <td>0.379532</td>\n",
       "      <td>-0.066350</td>\n",
       "      <td>0.090012</td>\n",
       "      <td>-0.015424</td>\n",
       "      <td>0.164424</td>\n",
       "      <td>-0.138535</td>\n",
       "      <td>...</td>\n",
       "      <td>0.154150</td>\n",
       "      <td>0.042875</td>\n",
       "      <td>-0.177308</td>\n",
       "      <td>1.871579e-01</td>\n",
       "      <td>-0.024254</td>\n",
       "      <td>1.000000</td>\n",
       "      <td>0.432032</td>\n",
       "      <td>0.091276</td>\n",
       "      <td>-0.113451</td>\n",
       "      <td>-0.092985</td>\n",
       "    </tr>\n",
       "    <tr>\n",
       "      <th>t</th>\n",
       "      <td>-0.477580</td>\n",
       "      <td>0.083727</td>\n",
       "      <td>0.174846</td>\n",
       "      <td>0.222982</td>\n",
       "      <td>0.571498</td>\n",
       "      <td>-0.053288</td>\n",
       "      <td>0.077652</td>\n",
       "      <td>-0.077129</td>\n",
       "      <td>0.190721</td>\n",
       "      <td>-0.170268</td>\n",
       "      <td>...</td>\n",
       "      <td>0.099570</td>\n",
       "      <td>-0.044258</td>\n",
       "      <td>-0.003933</td>\n",
       "      <td>8.056068e-02</td>\n",
       "      <td>0.000430</td>\n",
       "      <td>0.432032</td>\n",
       "      <td>1.000000</td>\n",
       "      <td>0.017043</td>\n",
       "      <td>-0.093598</td>\n",
       "      <td>-0.227403</td>\n",
       "    </tr>\n",
       "    <tr>\n",
       "      <th>t</th>\n",
       "      <td>-0.017136</td>\n",
       "      <td>0.054673</td>\n",
       "      <td>-0.013023</td>\n",
       "      <td>0.138139</td>\n",
       "      <td>0.006944</td>\n",
       "      <td>0.145722</td>\n",
       "      <td>0.019201</td>\n",
       "      <td>0.065027</td>\n",
       "      <td>0.008846</td>\n",
       "      <td>0.002402</td>\n",
       "      <td>...</td>\n",
       "      <td>0.020365</td>\n",
       "      <td>0.072605</td>\n",
       "      <td>-0.127900</td>\n",
       "      <td>3.490615e-02</td>\n",
       "      <td>0.002607</td>\n",
       "      <td>0.091276</td>\n",
       "      <td>0.017043</td>\n",
       "      <td>1.000000</td>\n",
       "      <td>-0.072382</td>\n",
       "      <td>0.020030</td>\n",
       "    </tr>\n",
       "    <tr>\n",
       "      <th>p</th>\n",
       "      <td>-0.028255</td>\n",
       "      <td>0.013211</td>\n",
       "      <td>-0.037842</td>\n",
       "      <td>-0.065938</td>\n",
       "      <td>-0.053491</td>\n",
       "      <td>0.010318</td>\n",
       "      <td>0.238870</td>\n",
       "      <td>0.015044</td>\n",
       "      <td>-0.157329</td>\n",
       "      <td>-0.060234</td>\n",
       "      <td>...</td>\n",
       "      <td>-0.026147</td>\n",
       "      <td>-0.033118</td>\n",
       "      <td>-0.032500</td>\n",
       "      <td>-5.415304e-02</td>\n",
       "      <td>0.046338</td>\n",
       "      <td>-0.113451</td>\n",
       "      <td>-0.093598</td>\n",
       "      <td>-0.072382</td>\n",
       "      <td>1.000000</td>\n",
       "      <td>-0.032500</td>\n",
       "    </tr>\n",
       "    <tr>\n",
       "      <th>s</th>\n",
       "      <td>0.109625</td>\n",
       "      <td>-0.017252</td>\n",
       "      <td>-0.116404</td>\n",
       "      <td>-0.007965</td>\n",
       "      <td>-0.130871</td>\n",
       "      <td>0.092629</td>\n",
       "      <td>-0.058611</td>\n",
       "      <td>0.078530</td>\n",
       "      <td>0.013731</td>\n",
       "      <td>-0.018160</td>\n",
       "      <td>...</td>\n",
       "      <td>-0.049366</td>\n",
       "      <td>0.058853</td>\n",
       "      <td>-0.032676</td>\n",
       "      <td>-7.107134e-02</td>\n",
       "      <td>-0.035033</td>\n",
       "      <td>-0.092985</td>\n",
       "      <td>-0.227403</td>\n",
       "      <td>0.020030</td>\n",
       "      <td>-0.032500</td>\n",
       "      <td>1.000000</td>\n",
       "    </tr>\n",
       "  </tbody>\n",
       "</table>\n",
       "<p>31 rows × 31 columns</p>\n",
       "</div>"
      ],
      "text/plain": [
       "           P         B         C         H         K         N         O  \\\n",
       "P   1.000000 -0.163535 -0.199471 -0.325125 -0.438026  0.115003 -0.172351   \n",
       "B  -0.163535  1.000000  0.201280  0.392878  0.185663 -0.078078  0.018502   \n",
       "C  -0.199471  0.201280  1.000000  0.298902  0.271207 -0.222541  0.123121   \n",
       "H  -0.325125  0.392878  0.298902  1.000000  0.322330 -0.075557  0.051345   \n",
       "K  -0.438026  0.185663  0.271207  0.322330  1.000000 -0.119479  0.063692   \n",
       "N   0.115003 -0.078078 -0.222541 -0.075557 -0.119479  1.000000  0.063840   \n",
       "O  -0.172351  0.018502  0.123121  0.051345  0.063692  0.063840  1.000000   \n",
       "b   0.051749  0.046740 -0.036993  0.091308 -0.016187  0.083724  0.000746   \n",
       "u  -0.142513  0.097901  0.093017  0.082493  0.122543 -0.015415 -0.002880   \n",
       "y   0.161193 -0.098350 -0.083781 -0.075905 -0.111077  0.009499 -0.057273   \n",
       "c   0.018874 -0.070768 -0.051812 -0.000896  0.031851 -0.049818 -0.022257   \n",
       "cc -0.147356 -0.026904 -0.036943  0.060111  0.121865  0.056735  0.043967   \n",
       "d   0.102533 -0.013515  0.001176  0.008507 -0.046799  0.005550 -0.037106   \n",
       "e  -0.060425  0.143802  0.134457  0.108307  0.025536 -0.023286  0.075431   \n",
       "ff  0.179997  0.167836  0.062583 -0.077599 -0.040543 -0.108922  0.073808   \n",
       "i   0.117889  0.031090 -0.034094 -0.024744 -0.053967  0.044270 -0.029540   \n",
       "k   0.096947 -0.003982 -0.042265 -0.058563 -0.054033 -0.004731 -0.026435   \n",
       "m  -0.002035  0.035262 -0.073015  0.025810 -0.017257  0.071469 -0.006029   \n",
       "q  -0.156415 -0.049659  0.021992  0.039152  0.073592 -0.035948 -0.002923   \n",
       "r  -0.047340 -0.009960  0.011131  0.039224  0.008159 -0.032674  0.120025   \n",
       "w  -0.020651 -0.048507 -0.012166 -0.008729 -0.015010  0.030989 -0.023613   \n",
       "x  -0.191934  0.009270  0.064218  0.062229  0.018042  0.111751  0.003599   \n",
       "bb -0.012652  0.125234 -0.003667  0.074188  0.032423  0.080406  0.043749   \n",
       "ff  0.179058  0.165790  0.037302 -0.073321 -0.033368 -0.123077 -0.033587   \n",
       "h  -0.175505  0.017403  0.061269  0.178414  0.065464  0.043843 -0.004725   \n",
       "z  -0.039983  0.074942  0.116594  0.036877  0.025393 -0.090234  0.133187   \n",
       "t  -0.722043  0.204437  0.244317  0.345689  0.379532 -0.066350  0.090012   \n",
       "t  -0.477580  0.083727  0.174846  0.222982  0.571498 -0.053288  0.077652   \n",
       "t  -0.017136  0.054673 -0.013023  0.138139  0.006944  0.145722  0.019201   \n",
       "p  -0.028255  0.013211 -0.037842 -0.065938 -0.053491  0.010318  0.238870   \n",
       "s   0.109625 -0.017252 -0.116404 -0.007965 -0.130871  0.092629 -0.058611   \n",
       "\n",
       "           b         u         y    ...            x        bb        ff  \\\n",
       "P   0.051749 -0.142513  0.161193    ...    -0.191934 -0.012652  0.179058   \n",
       "B   0.046740  0.097901 -0.098350    ...     0.009270  0.125234  0.165790   \n",
       "C  -0.036993  0.093017 -0.083781    ...     0.064218 -0.003667  0.037302   \n",
       "H   0.091308  0.082493 -0.075905    ...     0.062229  0.074188 -0.073321   \n",
       "K  -0.016187  0.122543 -0.111077    ...     0.018042  0.032423 -0.033368   \n",
       "N   0.083724 -0.015415  0.009499    ...     0.111751  0.080406 -0.123077   \n",
       "O   0.000746 -0.002880 -0.057273    ...     0.003599  0.043749 -0.033587   \n",
       "b   1.000000 -0.063462  0.068063    ...     0.013009  0.073169 -0.125560   \n",
       "u  -0.063462  1.000000 -0.968889    ...     0.006142  0.043475 -0.083817   \n",
       "y   0.068063 -0.968889  1.000000    ...     0.000347 -0.035844  0.080992   \n",
       "c   0.086694 -0.043887  0.025042    ...    -0.123980  0.021515 -0.154106   \n",
       "cc  0.038212  0.002284 -0.009893    ...    -0.060679 -0.054934 -0.053155   \n",
       "d   0.067878  0.007157 -0.001455    ...    -0.051470 -0.014365 -0.063977   \n",
       "e   0.014404  0.003515  0.001720    ...    -0.046809 -0.003819 -0.058183   \n",
       "ff -0.109383 -0.073934  0.070210    ...    -0.069636 -0.088202  0.941472   \n",
       "i   0.028520  0.031471 -0.023642    ...    -0.073821  0.499584 -0.091759   \n",
       "k   0.048188 -0.055951  0.064582    ...    -0.068203 -0.066577 -0.044531   \n",
       "m   0.122470  0.020857 -0.014610    ...    -0.058282 -0.005663 -0.072444   \n",
       "q  -0.232432  0.123993 -0.137461    ...    -0.087428 -0.110737 -0.108671   \n",
       "r   0.044759 -0.013087  0.015106    ...    -0.015953 -0.020207 -0.019830   \n",
       "w   0.098212  0.021533 -0.013160    ...    -0.077192 -0.079906 -0.095949   \n",
       "x   0.013009  0.006142  0.000347    ...     1.000000 -0.051102 -0.072444   \n",
       "bb  0.073169  0.043475 -0.035844    ...    -0.051102  1.000000 -0.091759   \n",
       "ff -0.125560 -0.083817  0.080992    ...    -0.072444 -0.091759  1.000000   \n",
       "h  -0.035895  0.010070  0.003412    ...     0.212828 -0.152891 -0.150039   \n",
       "z  -0.050529 -0.018048  0.006666    ...    -0.049650 -0.062887 -0.061714   \n",
       "t  -0.015424  0.164424 -0.138535    ...     0.154150  0.042875 -0.177308   \n",
       "t  -0.077129  0.190721 -0.170268    ...     0.099570 -0.044258 -0.003933   \n",
       "t   0.065027  0.008846  0.002402    ...     0.020365  0.072605 -0.127900   \n",
       "p   0.015044 -0.157329 -0.060234    ...    -0.026147 -0.033118 -0.032500   \n",
       "s   0.078530  0.013731 -0.018160    ...    -0.049366  0.058853 -0.032676   \n",
       "\n",
       "               h         z         t         t         t         p         s  \n",
       "P  -1.755049e-01 -0.039983 -0.722043 -0.477580 -0.017136 -0.028255  0.109625  \n",
       "B   1.740266e-02  0.074942  0.204437  0.083727  0.054673  0.013211 -0.017252  \n",
       "C   6.126905e-02  0.116594  0.244317  0.174846 -0.013023 -0.037842 -0.116404  \n",
       "H   1.784135e-01  0.036877  0.345689  0.222982  0.138139 -0.065938 -0.007965  \n",
       "K   6.546384e-02  0.025393  0.379532  0.571498  0.006944 -0.053491 -0.130871  \n",
       "N   4.384318e-02 -0.090234 -0.066350 -0.053288  0.145722  0.010318  0.092629  \n",
       "O  -4.725439e-03  0.133187  0.090012  0.077652  0.019201  0.238870 -0.058611  \n",
       "b  -3.589528e-02 -0.050529 -0.015424 -0.077129  0.065027  0.015044  0.078530  \n",
       "u   1.007023e-02 -0.018048  0.164424  0.190721  0.008846 -0.157329  0.013731  \n",
       "y   3.411936e-03  0.006666 -0.138535 -0.170268  0.002402 -0.060234 -0.018160  \n",
       "c  -1.604852e-02 -0.069469 -0.016702  0.003134 -0.035417  0.110952 -0.011603  \n",
       "cc  1.348678e-01 -0.051692  0.092659  0.055403  0.002746 -0.027222 -0.030886  \n",
       "d  -3.146142e-16 -0.043847 -0.081042 -0.126787  0.060776 -0.023091  0.090915  \n",
       "e  -1.938917e-02  0.510410  0.029818  0.020562 -0.053693 -0.021000 -0.001837  \n",
       "ff -1.442242e-01 -0.031740 -0.171392  0.003747 -0.112211  0.019599 -0.047018  \n",
       "i  -2.332232e-02 -0.036621 -0.112775 -0.128066  0.051800 -0.033118  0.021200  \n",
       "k   2.492740e-02 -0.058101 -0.074115 -0.076189  0.029391 -0.030598  0.035957  \n",
       "m  -8.894314e-02 -0.049650  0.001512  0.022520  0.058619 -0.026147  0.227567  \n",
       "q   1.471206e-01 -0.051536  0.146327  0.144546 -0.005794  0.045351 -0.075784  \n",
       "r   2.202729e-02  0.209680  0.018983 -0.012583  0.071891 -0.007157 -0.019830  \n",
       "w  -7.244207e-02 -0.065759  0.025166  0.046834  0.037000 -0.034630 -0.023356  \n",
       "x   2.128282e-01 -0.049650  0.154150  0.099570  0.020365 -0.026147 -0.049366  \n",
       "bb -1.528908e-01 -0.062887  0.042875 -0.044258  0.072605 -0.033118  0.058853  \n",
       "ff -1.500395e-01 -0.061714 -0.177308 -0.003933 -0.127900 -0.032500 -0.032676  \n",
       "h   1.000000e+00 -0.102830  0.187158  0.080561  0.034906 -0.054153 -0.071071  \n",
       "z  -1.028300e-01  1.000000 -0.024254  0.000430  0.002607  0.046338 -0.035033  \n",
       "t   1.871579e-01 -0.024254  1.000000  0.432032  0.091276 -0.113451 -0.092985  \n",
       "t   8.056068e-02  0.000430  0.432032  1.000000  0.017043 -0.093598 -0.227403  \n",
       "t   3.490615e-02  0.002607  0.091276  0.017043  1.000000 -0.072382  0.020030  \n",
       "p  -5.415304e-02  0.046338 -0.113451 -0.093598 -0.072382  1.000000 -0.032500  \n",
       "s  -7.107134e-02 -0.035033 -0.092985 -0.227403  0.020030 -0.032500  1.000000  \n",
       "\n",
       "[31 rows x 31 columns]"
      ]
     },
     "execution_count": 197,
     "metadata": {},
     "output_type": "execute_result"
    }
   ],
   "source": [
    "aa.corr()"
   ]
  },
  {
   "cell_type": "code",
   "execution_count": 198,
   "metadata": {},
   "outputs": [
    {
     "data": {
      "text/plain": [
       "<matplotlib.axes._subplots.AxesSubplot at 0x16dcce34780>"
      ]
     },
     "execution_count": 198,
     "metadata": {},
     "output_type": "execute_result"
    },
    {
     "data": {
      "image/png": "[encoded data removed]",
      "text/plain": [
       "<matplotlib.figure.Figure at 0x16dccd404e0>"
      ]
     },
     "metadata": {},
     "output_type": "display_data"
    }
   ],
   "source": [
    "ms.matrix(data)"
   ]
  },
  {
   "cell_type": "code",
   "execution_count": null,
   "metadata": {
    "collapsed": true
   },
   "outputs": [],
   "source": [
    "train_data.info()"
   ]
  },
  {
   "cell_type": "code",
   "execution_count": 261,
   "metadata": {
    "collapsed": true
   },
   "outputs": [],
   "source": [
    "ad=data[:552]\n",
    "af=data[552:]"
   ]
  },
  {
   "cell_type": "code",
   "execution_count": 262,
   "metadata": {
    "collapsed": true
   },
   "outputs": [],
   "source": [
    "from sklearn.model_selection import train_test_split\n",
    "X_train,X_test,y_train,y_test=train_test_split(ad,p,test_size=0.30,shuffle=True)"
   ]
  },
  {
   "cell_type": "code",
   "execution_count": 276,
   "metadata": {
    "collapsed": true
   },
   "outputs": [],
   "source": [
    "from sklearn.ensemble import RandomForestClassifier\n",
    "model=RandomForestClassifier(n_estimators=42,random_state=250)"
   ]
  },
  {
   "cell_type": "code",
   "execution_count": 277,
   "metadata": {},
   "outputs": [
    {
     "data": {
      "text/plain": [
       "RandomForestClassifier(bootstrap=True, class_weight=None, criterion='gini',\n",
       "            max_depth=None, max_features='auto', max_leaf_nodes=None,\n",
       "            min_impurity_decrease=0.0, min_impurity_split=None,\n",
       "            min_samples_leaf=1, min_samples_split=2,\n",
       "            min_weight_fraction_leaf=0.0, n_estimators=10, n_jobs=1,\n",
       "            oob_score=False, random_state=101, verbose=0, warm_start=False)"
      ]
     },
     "execution_count": 277,
     "metadata": {},
     "output_type": "execute_result"
    }
   ],
   "source": [
    "model.fit(X_train,y_train)"
   ]
  },
  {
   "cell_type": "code",
   "execution_count": 278,
   "metadata": {
    "collapsed": true
   },
   "outputs": [],
   "source": [
    "predict=model.predict(X_test)"
   ]
  },
  {
   "cell_type": "code",
   "execution_count": null,
   "metadata": {
    "collapsed": true
   },
   "outputs": [],
   "source": []
  },
  {
   "cell_type": "code",
   "execution_count": 307,
   "metadata": {
    "collapsed": true
   },
   "outputs": [],
   "source": [
    "from xgboost import XGBClassifier"
   ]
  },
  {
   "cell_type": "code",
   "execution_count": 308,
   "metadata": {},
   "outputs": [
    {
     "ename": "ValueError",
     "evalue": "feature_names must be unique",
     "output_type": "error",
     "traceback": [
      "\u001b[1;31m---------------------------------------------------------------------------\u001b[0m",
      "\u001b[1;31mValueError\u001b[0m                                Traceback (most recent call last)",
      "\u001b[1;32m<ipython-input-308-5cad5fff39de>\u001b[0m in \u001b[0;36m<module>\u001b[1;34m()\u001b[0m\n\u001b[0;32m      1\u001b[0m \u001b[0mmodel\u001b[0m \u001b[1;33m=\u001b[0m \u001b[0mXGBClassifier\u001b[0m\u001b[1;33m(\u001b[0m\u001b[0mn_estimators\u001b[0m\u001b[1;33m=\u001b[0m\u001b[1;36m42\u001b[0m\u001b[1;33m,\u001b[0m\u001b[0mrandom_state\u001b[0m\u001b[1;33m=\u001b[0m\u001b[1;36m250\u001b[0m\u001b[1;33m)\u001b[0m\u001b[1;33m\u001b[0m\u001b[0m\n\u001b[1;32m----> 2\u001b[1;33m \u001b[0mmodel\u001b[0m\u001b[1;33m.\u001b[0m\u001b[0mfit\u001b[0m\u001b[1;33m(\u001b[0m\u001b[0mX_train\u001b[0m\u001b[1;33m,\u001b[0m \u001b[0my_train\u001b[0m\u001b[1;33m)\u001b[0m\u001b[1;33m\u001b[0m\u001b[0m\n\u001b[0m",
      "\u001b[1;32mC:\\ProgramData\\Anaconda3\\lib\\site-packages\\xgboost\\sklearn.py\u001b[0m in \u001b[0;36mfit\u001b[1;34m(self, X, y, sample_weight, eval_set, eval_metric, early_stopping_rounds, verbose, xgb_model)\u001b[0m\n\u001b[0;32m    498\u001b[0m         \u001b[1;32melse\u001b[0m\u001b[1;33m:\u001b[0m\u001b[1;33m\u001b[0m\u001b[0m\n\u001b[0;32m    499\u001b[0m             train_dmatrix = DMatrix(X, label=training_labels,\n\u001b[1;32m--> 500\u001b[1;33m                                     missing=self.missing, nthread=self.n_jobs)\n\u001b[0m\u001b[0;32m    501\u001b[0m \u001b[1;33m\u001b[0m\u001b[0m\n\u001b[0;32m    502\u001b[0m         self._Booster = train(xgb_options, train_dmatrix, self.n_estimators,\n",
      "\u001b[1;32mC:\\ProgramData\\Anaconda3\\lib\\site-packages\\xgboost\\core.py\u001b[0m in \u001b[0;36m__init__\u001b[1;34m(self, data, label, missing, weight, silent, feature_names, feature_types, nthread)\u001b[0m\n\u001b[0;32m    294\u001b[0m                 \u001b[0mself\u001b[0m\u001b[1;33m.\u001b[0m\u001b[0mset_weight\u001b[0m\u001b[1;33m(\u001b[0m\u001b[0mweight\u001b[0m\u001b[1;33m)\u001b[0m\u001b[1;33m\u001b[0m\u001b[0m\n\u001b[0;32m    295\u001b[0m \u001b[1;33m\u001b[0m\u001b[0m\n\u001b[1;32m--> 296\u001b[1;33m         \u001b[0mself\u001b[0m\u001b[1;33m.\u001b[0m\u001b[0mfeature_names\u001b[0m \u001b[1;33m=\u001b[0m \u001b[0mfeature_names\u001b[0m\u001b[1;33m\u001b[0m\u001b[0m\n\u001b[0m\u001b[0;32m    297\u001b[0m         \u001b[0mself\u001b[0m\u001b[1;33m.\u001b[0m\u001b[0mfeature_types\u001b[0m \u001b[1;33m=\u001b[0m \u001b[0mfeature_types\u001b[0m\u001b[1;33m\u001b[0m\u001b[0m\n\u001b[0;32m    298\u001b[0m \u001b[1;33m\u001b[0m\u001b[0m\n",
      "\u001b[1;32mC:\\ProgramData\\Anaconda3\\lib\\site-packages\\xgboost\\core.py\u001b[0m in \u001b[0;36mfeature_names\u001b[1;34m(self, feature_names)\u001b[0m\n\u001b[0;32m    655\u001b[0m                 \u001b[0mfeature_names\u001b[0m \u001b[1;33m=\u001b[0m \u001b[0mlist\u001b[0m\u001b[1;33m(\u001b[0m\u001b[0mfeature_names\u001b[0m\u001b[1;33m)\u001b[0m\u001b[1;33m\u001b[0m\u001b[0m\n\u001b[0;32m    656\u001b[0m             \u001b[1;32mif\u001b[0m \u001b[0mlen\u001b[0m\u001b[1;33m(\u001b[0m\u001b[0mfeature_names\u001b[0m\u001b[1;33m)\u001b[0m \u001b[1;33m!=\u001b[0m \u001b[0mlen\u001b[0m\u001b[1;33m(\u001b[0m\u001b[0mset\u001b[0m\u001b[1;33m(\u001b[0m\u001b[0mfeature_names\u001b[0m\u001b[1;33m)\u001b[0m\u001b[1;33m)\u001b[0m\u001b[1;33m:\u001b[0m\u001b[1;33m\u001b[0m\u001b[0m\n\u001b[1;32m--> 657\u001b[1;33m                 \u001b[1;32mraise\u001b[0m \u001b[0mValueError\u001b[0m\u001b[1;33m(\u001b[0m\u001b[1;34m'feature_names must be unique'\u001b[0m\u001b[1;33m)\u001b[0m\u001b[1;33m\u001b[0m\u001b[0m\n\u001b[0m\u001b[0;32m    658\u001b[0m             \u001b[1;32mif\u001b[0m \u001b[0mlen\u001b[0m\u001b[1;33m(\u001b[0m\u001b[0mfeature_names\u001b[0m\u001b[1;33m)\u001b[0m \u001b[1;33m!=\u001b[0m \u001b[0mself\u001b[0m\u001b[1;33m.\u001b[0m\u001b[0mnum_col\u001b[0m\u001b[1;33m(\u001b[0m\u001b[1;33m)\u001b[0m\u001b[1;33m:\u001b[0m\u001b[1;33m\u001b[0m\u001b[0m\n\u001b[0;32m    659\u001b[0m                 \u001b[0mmsg\u001b[0m \u001b[1;33m=\u001b[0m \u001b[1;34m'feature_names must have the same length as data'\u001b[0m\u001b[1;33m\u001b[0m\u001b[0m\n",
      "\u001b[1;31mValueError\u001b[0m: feature_names must be unique"
     ]
    }
   ],
   "source": [
    "model = XGBClassifier(n_estimators=42,random_state=250)\n",
    "model.fit(X_train, y_train)"
   ]
  },
  {
   "cell_type": "code",
   "execution_count": null,
   "metadata": {
    "collapsed": true
   },
   "outputs": [],
   "source": [
    "predict=model.predict(X_test)"
   ]
  },
  {
   "cell_type": "code",
   "execution_count": 279,
   "metadata": {},
   "outputs": [
    {
     "name": "stdout",
     "output_type": "stream",
     "text": [
      "[[65 19]\n",
      " [ 7 75]]\n"
     ]
    }
   ],
   "source": [
    "from sklearn.metrics import confusion_matrix,f1_score,precision_score,recall_score,accuracy_score\n",
    "print(confusion_matrix(y_test,predict))"
   ]
  },
  {
   "cell_type": "code",
   "execution_count": 280,
   "metadata": {},
   "outputs": [
    {
     "name": "stdout",
     "output_type": "stream",
     "text": [
      "0.797872340426\n"
     ]
    }
   ],
   "source": [
    "print(precision_score(y_test,predict))"
   ]
  },
  {
   "cell_type": "code",
   "execution_count": 281,
   "metadata": {},
   "outputs": [
    {
     "name": "stdout",
     "output_type": "stream",
     "text": [
      "0.914634146341\n"
     ]
    }
   ],
   "source": [
    "print(recall_score(y_test,predict))"
   ]
  },
  {
   "cell_type": "code",
   "execution_count": 282,
   "metadata": {},
   "outputs": [
    {
     "name": "stdout",
     "output_type": "stream",
     "text": [
      "0.843373493976\n"
     ]
    }
   ],
   "source": [
    "print(accuracy_score(y_test,predict))"
   ]
  },
  {
   "cell_type": "code",
   "execution_count": null,
   "metadata": {
    "collapsed": true
   },
   "outputs": [],
   "source": []
  },
  {
   "cell_type": "code",
   "execution_count": 283,
   "metadata": {},
   "outputs": [
    {
     "data": {
      "text/plain": [
       "RandomForestClassifier(bootstrap=True, class_weight=None, criterion='gini',\n",
       "            max_depth=None, max_features='auto', max_leaf_nodes=None,\n",
       "            min_impurity_decrease=0.0, min_impurity_split=None,\n",
       "            min_samples_leaf=1, min_samples_split=2,\n",
       "            min_weight_fraction_leaf=0.0, n_estimators=10, n_jobs=1,\n",
       "            oob_score=False, random_state=101, verbose=0, warm_start=False)"
      ]
     },
     "execution_count": 283,
     "metadata": {},
     "output_type": "execute_result"
    }
   ],
   "source": [
    "model.fit(ad,p)"
   ]
  },
  {
   "cell_type": "code",
   "execution_count": 284,
   "metadata": {
    "collapsed": true
   },
   "outputs": [],
   "source": [
    "predict=model.predict(af)"
   ]
  },
  {
   "cell_type": "code",
   "execution_count": 285,
   "metadata": {},
   "outputs": [
    {
     "data": {
      "text/plain": [
       "array([0, 0, 0, 0, 0, 1, 0, 0, 0, 1, 1, 1, 1, 1, 0, 1, 0, 1, 1, 0, 0, 1, 0,\n",
       "       1, 0, 0, 0, 1, 1, 0, 1, 1, 1, 0, 0, 1, 1, 1, 1, 1, 1, 0, 0, 0, 0, 0,\n",
       "       1, 1, 1, 0, 1, 0, 1, 1, 0, 1, 1, 0, 1, 1, 1, 1, 1, 1, 0, 0, 0, 0, 0,\n",
       "       1, 0, 0, 1, 1, 1, 1, 0, 0, 0, 0, 1, 1, 0, 0, 1, 1, 1, 1, 0, 0, 1, 0,\n",
       "       1, 1, 0, 1, 0, 1, 1, 0, 0, 0, 1, 0, 1, 0, 1, 0, 0, 1, 0, 1, 0, 0, 1,\n",
       "       1, 0, 1, 1, 1, 0, 1, 0, 1, 1, 0, 1, 0, 1, 0, 1, 1, 0, 0, 1, 0, 0, 0], dtype=int64)"
      ]
     },
     "execution_count": 285,
     "metadata": {},
     "output_type": "execute_result"
    }
   ],
   "source": [
    "predict"
   ]
  },
  {
   "cell_type": "code",
   "execution_count": 286,
   "metadata": {
    "collapsed": true
   },
   "outputs": [],
   "source": [
    "## saving the predictions to a csv file ##\n",
    "l1 = pd.DataFrame({'id' : test_data['id']})\n",
    "l2 = pd.DataFrame({'P': predict})\n",
    "final_result=pd.concat([l1,l2],axis=1)\n",
    "filename = 'sample_submission.csv'\n",
    "final_result.to_csv(filename,index=False)"
   ]
  },
  {
   "cell_type": "code",
   "execution_count": 287,
   "metadata": {
    "collapsed": true
   },
   "outputs": [],
   "source": [
    "kk=pd.DataFrame([0, 0, 0, 0, 0, 1, 0, 0, 0, 1, 1, 1, 1, 1, 0, 1, 1, 1, 1, 0, 0, 1, 0,\n",
    "       1, 0, 1, 0, 1, 1, 0, 1, 1, 1, 0, 0, 1, 0, 1, 1, 1, 1, 0, 0, 0, 0, 1,\n",
    "       1, 1, 1, 0, 1, 0, 0, 1, 0, 1, 1, 0, 1, 1, 1, 1, 1, 1, 0, 0, 1, 1, 0,\n",
    "       0, 0, 0, 1, 1, 1, 1, 0, 0, 1, 0, 1, 1, 1, 0, 1, 1, 1, 1, 0, 0, 1, 0,\n",
    "       0, 1, 0, 1, 0, 1, 1, 0, 0, 0, 1, 0, 1, 0, 1, 0, 1, 1, 0, 1, 1, 0, 1,\n",
    "       1, 0, 1, 1, 0, 0, 1, 0, 1, 1, 1, 1, 0, 1, 0, 1, 1, 0, 1, 1, 0, 0, 0])"
   ]
  },
  {
   "cell_type": "code",
   "execution_count": 288,
   "metadata": {},
   "outputs": [
    {
     "name": "stdout",
     "output_type": "stream",
     "text": [
      "[[56  5]\n",
      " [11 66]]\n"
     ]
    }
   ],
   "source": [
    "from sklearn.metrics import confusion_matrix,f1_score,precision_score,recall_score,accuracy_score\n",
    "print(confusion_matrix(kk,predict))"
   ]
  },
  {
   "cell_type": "code",
   "execution_count": null,
   "metadata": {
    "collapsed": true
   },
   "outputs": [],
   "source": []
  },
  {
   "cell_type": "code",
   "execution_count": null,
   "metadata": {
    "collapsed": true
   },
   "outputs": [],
   "source": []
  }
 ],
 "metadata": {
  "kernelspec": {
   "display_name": "Python 3",
   "language": "python",
   "name": "python3"
  },
  "language_info": {
   "codemirror_mode": {
    "name": "ipython",
    "version": 3
   },
   "file_extension": ".py",
   "mimetype": "text/x-python",
   "name": "python",
   "nbconvert_exporter": "python",
   "pygments_lexer": "ipython3",
   "version": "3.6.3"
  }
 },
 "nbformat": 4,
 "nbformat_minor": 2
}
